{
 "cells": [
  {
   "cell_type": "markdown",
   "id": "b45102d6-066e-424f-87e0-c782d90b8836",
   "metadata": {},
   "source": [
    "## 1.  Importing Required Libraries"
   ]
  },
  {
   "cell_type": "code",
   "execution_count": 1,
   "id": "292db574-9b2b-41c5-b594-e0edae7dbed9",
   "metadata": {},
   "outputs": [],
   "source": [
    "import pandas as pd\n",
    "import os\n",
    "import matplotlib.pyplot as plt\n",
    "from nltk.tokenize import word_tokenize\n",
    "from nltk.corpus import stopwords\n",
    "from nltk.stem import PorterStemmer\n",
    "from sklearn.feature_extraction.text import TfidfVectorizer\n",
    "from sklearn.model_selection import train_test_split\n",
    "from sklearn.linear_model import LogisticRegression\n",
    "from sklearn.metrics import classification_report, confusion_matrix, ConfusionMatrixDisplay\n",
    "from sklearn.preprocessing import StandardScaler\n",
    "from sklearn.decomposition import PCA\n",
    "from sklearn.cluster import KMeans\n",
    "\n",
    "import numpy as np\n",
    "import warnings\n",
    "warnings.filterwarnings('ignore')\n"
   ]
  },
  {
   "cell_type": "markdown",
   "id": "f1878573-bccd-4328-b125-d677c0fc53f5",
   "metadata": {},
   "source": [
    "## 2.Data Exploration and Loading"
   ]
  },
  {
   "cell_type": "code",
   "execution_count": 2,
   "id": "f7e425de-da64-47e9-8235-16dcb2ccbc04",
   "metadata": {},
   "outputs": [
    {
     "data": {
      "text/html": [
       "<div>\n",
       "<style scoped>\n",
       "    .dataframe tbody tr th:only-of-type {\n",
       "        vertical-align: middle;\n",
       "    }\n",
       "\n",
       "    .dataframe tbody tr th {\n",
       "        vertical-align: top;\n",
       "    }\n",
       "\n",
       "    .dataframe thead th {\n",
       "        text-align: right;\n",
       "    }\n",
       "</style>\n",
       "<table border=\"1\" class=\"dataframe\">\n",
       "  <thead>\n",
       "    <tr style=\"text-align: right;\">\n",
       "      <th></th>\n",
       "      <th>fold_id</th>\n",
       "      <th>cv_tag</th>\n",
       "      <th>html_id</th>\n",
       "      <th>sent_id</th>\n",
       "      <th>text</th>\n",
       "      <th>tag</th>\n",
       "    </tr>\n",
       "  </thead>\n",
       "  <tbody>\n",
       "    <tr>\n",
       "      <th>0</th>\n",
       "      <td>0</td>\n",
       "      <td>cv000</td>\n",
       "      <td>29590</td>\n",
       "      <td>0</td>\n",
       "      <td>films adapted from comic books have had plenty...</td>\n",
       "      <td>pos</td>\n",
       "    </tr>\n",
       "    <tr>\n",
       "      <th>1</th>\n",
       "      <td>0</td>\n",
       "      <td>cv000</td>\n",
       "      <td>29590</td>\n",
       "      <td>1</td>\n",
       "      <td>for starters , it was created by alan moore ( ...</td>\n",
       "      <td>pos</td>\n",
       "    </tr>\n",
       "    <tr>\n",
       "      <th>2</th>\n",
       "      <td>0</td>\n",
       "      <td>cv000</td>\n",
       "      <td>29590</td>\n",
       "      <td>2</td>\n",
       "      <td>to say moore and campbell thoroughly researche...</td>\n",
       "      <td>pos</td>\n",
       "    </tr>\n",
       "    <tr>\n",
       "      <th>3</th>\n",
       "      <td>0</td>\n",
       "      <td>cv000</td>\n",
       "      <td>29590</td>\n",
       "      <td>3</td>\n",
       "      <td>the book ( or \" graphic novel , \" if you will ...</td>\n",
       "      <td>pos</td>\n",
       "    </tr>\n",
       "    <tr>\n",
       "      <th>4</th>\n",
       "      <td>0</td>\n",
       "      <td>cv000</td>\n",
       "      <td>29590</td>\n",
       "      <td>4</td>\n",
       "      <td>in other words , don't dismiss this film becau...</td>\n",
       "      <td>pos</td>\n",
       "    </tr>\n",
       "  </tbody>\n",
       "</table>\n",
       "</div>"
      ],
      "text/plain": [
       "   fold_id cv_tag  html_id  sent_id  \\\n",
       "0        0  cv000    29590        0   \n",
       "1        0  cv000    29590        1   \n",
       "2        0  cv000    29590        2   \n",
       "3        0  cv000    29590        3   \n",
       "4        0  cv000    29590        4   \n",
       "\n",
       "                                                text  tag  \n",
       "0  films adapted from comic books have had plenty...  pos  \n",
       "1  for starters , it was created by alan moore ( ...  pos  \n",
       "2  to say moore and campbell thoroughly researche...  pos  \n",
       "3  the book ( or \" graphic novel , \" if you will ...  pos  \n",
       "4  in other words , don't dismiss this film becau...  pos  "
      ]
     },
     "execution_count": 2,
     "metadata": {},
     "output_type": "execute_result"
    }
   ],
   "source": [
    "df = pd.read_csv('movie_review.csv')\n",
    "df.head()\n"
   ]
  },
  {
   "cell_type": "code",
   "execution_count": 3,
   "id": "9927c0a1-ec68-44f4-8496-65c3161886fa",
   "metadata": {},
   "outputs": [
    {
     "data": {
      "text/plain": [
       "(64720, 6)"
      ]
     },
     "execution_count": 3,
     "metadata": {},
     "output_type": "execute_result"
    }
   ],
   "source": [
    "df.shape"
   ]
  },
  {
   "cell_type": "code",
   "execution_count": 4,
   "id": "52c428e9-489e-4079-bd36-059265cdbe46",
   "metadata": {},
   "outputs": [
    {
     "name": "stdout",
     "output_type": "stream",
     "text": [
      "<class 'pandas.core.frame.DataFrame'>\n",
      "RangeIndex: 64720 entries, 0 to 64719\n",
      "Data columns (total 6 columns):\n",
      " #   Column   Non-Null Count  Dtype \n",
      "---  ------   --------------  ----- \n",
      " 0   fold_id  64720 non-null  int64 \n",
      " 1   cv_tag   64720 non-null  object\n",
      " 2   html_id  64720 non-null  int64 \n",
      " 3   sent_id  64720 non-null  int64 \n",
      " 4   text     64720 non-null  object\n",
      " 5   tag      64720 non-null  object\n",
      "dtypes: int64(3), object(3)\n",
      "memory usage: 3.0+ MB\n"
     ]
    }
   ],
   "source": [
    "df.info()"
   ]
  },
  {
   "cell_type": "code",
   "execution_count": 5,
   "id": "34dcecec-9c27-486c-ac04-0f19e6e90beb",
   "metadata": {},
   "outputs": [
    {
     "data": {
      "text/html": [
       "<div>\n",
       "<style scoped>\n",
       "    .dataframe tbody tr th:only-of-type {\n",
       "        vertical-align: middle;\n",
       "    }\n",
       "\n",
       "    .dataframe tbody tr th {\n",
       "        vertical-align: top;\n",
       "    }\n",
       "\n",
       "    .dataframe thead th {\n",
       "        text-align: right;\n",
       "    }\n",
       "</style>\n",
       "<table border=\"1\" class=\"dataframe\">\n",
       "  <thead>\n",
       "    <tr style=\"text-align: right;\">\n",
       "      <th></th>\n",
       "      <th>fold_id</th>\n",
       "      <th>html_id</th>\n",
       "      <th>sent_id</th>\n",
       "    </tr>\n",
       "  </thead>\n",
       "  <tbody>\n",
       "    <tr>\n",
       "      <th>count</th>\n",
       "      <td>64720.000000</td>\n",
       "      <td>64720.000000</td>\n",
       "      <td>64720.00000</td>\n",
       "    </tr>\n",
       "    <tr>\n",
       "      <th>mean</th>\n",
       "      <td>4.549382</td>\n",
       "      <td>16074.097373</td>\n",
       "      <td>18.98118</td>\n",
       "    </tr>\n",
       "    <tr>\n",
       "      <th>std</th>\n",
       "      <td>2.853176</td>\n",
       "      <td>7175.282521</td>\n",
       "      <td>15.08369</td>\n",
       "    </tr>\n",
       "    <tr>\n",
       "      <th>min</th>\n",
       "      <td>0.000000</td>\n",
       "      <td>42.000000</td>\n",
       "      <td>0.00000</td>\n",
       "    </tr>\n",
       "    <tr>\n",
       "      <th>25%</th>\n",
       "      <td>2.000000</td>\n",
       "      <td>10613.000000</td>\n",
       "      <td>8.00000</td>\n",
       "    </tr>\n",
       "    <tr>\n",
       "      <th>50%</th>\n",
       "      <td>5.000000</td>\n",
       "      <td>15091.000000</td>\n",
       "      <td>16.00000</td>\n",
       "    </tr>\n",
       "    <tr>\n",
       "      <th>75%</th>\n",
       "      <td>7.000000</td>\n",
       "      <td>21865.000000</td>\n",
       "      <td>27.00000</td>\n",
       "    </tr>\n",
       "    <tr>\n",
       "      <th>max</th>\n",
       "      <td>9.000000</td>\n",
       "      <td>29867.000000</td>\n",
       "      <td>111.00000</td>\n",
       "    </tr>\n",
       "  </tbody>\n",
       "</table>\n",
       "</div>"
      ],
      "text/plain": [
       "            fold_id       html_id      sent_id\n",
       "count  64720.000000  64720.000000  64720.00000\n",
       "mean       4.549382  16074.097373     18.98118\n",
       "std        2.853176   7175.282521     15.08369\n",
       "min        0.000000     42.000000      0.00000\n",
       "25%        2.000000  10613.000000      8.00000\n",
       "50%        5.000000  15091.000000     16.00000\n",
       "75%        7.000000  21865.000000     27.00000\n",
       "max        9.000000  29867.000000    111.00000"
      ]
     },
     "execution_count": 5,
     "metadata": {},
     "output_type": "execute_result"
    }
   ],
   "source": [
    "df.describe()"
   ]
  },
  {
   "cell_type": "markdown",
   "id": "e8c9a538-d199-4758-9285-2067a7e11076",
   "metadata": {},
   "source": [
    "### Count and Visualize Sentiments"
   ]
  },
  {
   "cell_type": "code",
   "execution_count": 6,
   "id": "25220bf2-a113-4164-85ab-20fde0d15090",
   "metadata": {},
   "outputs": [
    {
     "data": {
      "image/png": "[encoded data removed]",
      "text/plain": [
       "<Figure size 640x480 with 1 Axes>"
      ]
     },
     "metadata": {},
     "output_type": "display_data"
    }
   ],
   "source": [
    "df['tag'].value_counts().reset_index()\n",
    "data_dist = [len(df[df['tag']=='pos']), len(df[df['tag']=='neg'])]\n",
    "labels = ['Positive','Negative']\n",
    "plt.pie(data_dist, labels = labels)\n",
    "plt.show()\n"
   ]
  },
  {
   "cell_type": "markdown",
   "id": "f51981dd-d5fa-4693-8741-c3adcba034d2",
   "metadata": {},
   "source": [
    "> Observation - Occurance of `positive` is slightly more than that of `negative`"
   ]
  },
  {
   "cell_type": "markdown",
   "id": "04421392-abef-4a4f-b5ae-913e92fda91b",
   "metadata": {},
   "source": [
    "## 3. Data Cleaning"
   ]
  },
  {
   "cell_type": "markdown",
   "id": "9d972e3d-6db1-4835-87fa-df2b35cf3246",
   "metadata": {},
   "source": [
    "### Checking for Duplicates"
   ]
  },
  {
   "cell_type": "code",
   "execution_count": 7,
   "id": "ca61a0a8-3d6b-44d4-ad23-c2b1984e0b68",
   "metadata": {},
   "outputs": [
    {
     "data": {
      "text/plain": [
       "0"
      ]
     },
     "execution_count": 7,
     "metadata": {},
     "output_type": "execute_result"
    }
   ],
   "source": [
    "df.duplicated().sum()"
   ]
  },
  {
   "cell_type": "markdown",
   "id": "d5224a8f-aa25-41c4-b529-a74d85f30704",
   "metadata": {},
   "source": [
    "> No Duplicates present"
   ]
  },
  {
   "cell_type": "markdown",
   "id": "d8da02fd-b1dd-4929-8f79-d96846f19ea5",
   "metadata": {},
   "source": [
    "### Dropping Unnecessary Columns"
   ]
  },
  {
   "cell_type": "code",
   "execution_count": 8,
   "id": "76d3c363-8152-49e7-9682-c538ddb5c626",
   "metadata": {},
   "outputs": [],
   "source": [
    "df = df.drop(columns=['fold_id', 'cv_tag', 'html_id', 'sent_id'])\n"
   ]
  },
  {
   "cell_type": "code",
   "execution_count": 9,
   "id": "94dec36d-a708-478d-807c-c9c4416775b4",
   "metadata": {},
   "outputs": [
    {
     "data": {
      "text/html": [
       "<div>\n",
       "<style scoped>\n",
       "    .dataframe tbody tr th:only-of-type {\n",
       "        vertical-align: middle;\n",
       "    }\n",
       "\n",
       "    .dataframe tbody tr th {\n",
       "        vertical-align: top;\n",
       "    }\n",
       "\n",
       "    .dataframe thead th {\n",
       "        text-align: right;\n",
       "    }\n",
       "</style>\n",
       "<table border=\"1\" class=\"dataframe\">\n",
       "  <thead>\n",
       "    <tr style=\"text-align: right;\">\n",
       "      <th></th>\n",
       "      <th>text</th>\n",
       "      <th>tag</th>\n",
       "    </tr>\n",
       "  </thead>\n",
       "  <tbody>\n",
       "    <tr>\n",
       "      <th>0</th>\n",
       "      <td>films adapted from comic books have had plenty...</td>\n",
       "      <td>pos</td>\n",
       "    </tr>\n",
       "    <tr>\n",
       "      <th>1</th>\n",
       "      <td>for starters , it was created by alan moore ( ...</td>\n",
       "      <td>pos</td>\n",
       "    </tr>\n",
       "    <tr>\n",
       "      <th>2</th>\n",
       "      <td>to say moore and campbell thoroughly researche...</td>\n",
       "      <td>pos</td>\n",
       "    </tr>\n",
       "    <tr>\n",
       "      <th>3</th>\n",
       "      <td>the book ( or \" graphic novel , \" if you will ...</td>\n",
       "      <td>pos</td>\n",
       "    </tr>\n",
       "    <tr>\n",
       "      <th>4</th>\n",
       "      <td>in other words , don't dismiss this film becau...</td>\n",
       "      <td>pos</td>\n",
       "    </tr>\n",
       "  </tbody>\n",
       "</table>\n",
       "</div>"
      ],
      "text/plain": [
       "                                                text  tag\n",
       "0  films adapted from comic books have had plenty...  pos\n",
       "1  for starters , it was created by alan moore ( ...  pos\n",
       "2  to say moore and campbell thoroughly researche...  pos\n",
       "3  the book ( or \" graphic novel , \" if you will ...  pos\n",
       "4  in other words , don't dismiss this film becau...  pos"
      ]
     },
     "execution_count": 9,
     "metadata": {},
     "output_type": "execute_result"
    }
   ],
   "source": [
    "df.head()"
   ]
  },
  {
   "cell_type": "markdown",
   "id": "3815a64c-6fd9-49c7-bfee-54285a0ee54a",
   "metadata": {},
   "source": [
    "## 4. Text Preprocessing"
   ]
  },
  {
   "cell_type": "markdown",
   "id": "7843b32d-2269-4bb2-9c16-fac76456c610",
   "metadata": {},
   "source": [
    "### Tokenization\n",
    "Spliting the review text into individual words (tokens)."
   ]
  },
  {
   "cell_type": "code",
   "execution_count": 10,
   "id": "8447312a-a22e-4f6a-8774-aae6febc784b",
   "metadata": {},
   "outputs": [],
   "source": [
    "#import nltk\n",
    "#nltk.download('punkt')\n"
   ]
  },
  {
   "cell_type": "code",
   "execution_count": 11,
   "id": "a47934b1-63fc-41d5-a3da-52fe0680943a",
   "metadata": {},
   "outputs": [
    {
     "data": {
      "text/plain": [
       "0        [films, adapted, from, comic, books, have, had...\n",
       "1        [for, starters, ,, it, was, created, by, alan,...\n",
       "2        [to, say, moore, and, campbell, thoroughly, re...\n",
       "3        [the, book, (, or, ``, graphic, novel, ,, ``, ...\n",
       "4        [in, other, words, ,, do, n't, dismiss, this, ...\n",
       "                               ...                        \n",
       "64715    [that, lack, of, inspiration, can, be, traced,...\n",
       "64716    [like, too, many, of, the, skits, on, the, cur...\n",
       "64717    [after, watching, one, of, the, ``, roxbury, `...\n",
       "64718    [bump, unsuspecting, women, ,, and, ., ., ., t...\n",
       "64719    [after, watching, _a_night_at_the_roxbury_, ,,...\n",
       "Name: tokens, Length: 64720, dtype: object"
      ]
     },
     "execution_count": 11,
     "metadata": {},
     "output_type": "execute_result"
    }
   ],
   "source": [
    "from nltk.tokenize import word_tokenize\n",
    "df['tokens'] = df['text'].apply(word_tokenize)\n",
    "df['tokens']"
   ]
  },
  {
   "cell_type": "markdown",
   "id": "11d3d72d-63ad-46ec-87e8-ba58b8613758",
   "metadata": {},
   "source": [
    "### Removing StopWords\n",
    "Filtering out common words (like 'the', 'is') that are not informative for sentiment analysis."
   ]
  },
  {
   "cell_type": "code",
   "execution_count": 12,
   "id": "ff350c11-cccb-4d1c-b9e0-8be79824e688",
   "metadata": {
    "scrolled": true
   },
   "outputs": [],
   "source": [
    "#import nltk\n",
    "#nltk.download('all')"
   ]
  },
  {
   "cell_type": "code",
   "execution_count": 13,
   "id": "9f43d37c-ea0a-4241-a013-3984106c3b1e",
   "metadata": {},
   "outputs": [],
   "source": [
    "from nltk.corpus import stopwords\n",
    "stop_words = set(stopwords.words('english'))\n",
    "df['tokens'] = df['tokens'].apply(lambda x: [word for word in x if word.lower() not in stop_words])\n"
   ]
  },
  {
   "cell_type": "code",
   "execution_count": 14,
   "id": "e48e1af6-be24-4479-8cb9-4ed9b2f4142d",
   "metadata": {},
   "outputs": [
    {
     "data": {
      "text/plain": [
       "0        [films, adapted, comic, books, plenty, success...\n",
       "1        [starters, ,, created, alan, moore, (, eddie, ...\n",
       "2        [say, moore, campbell, thoroughly, researched,...\n",
       "3        [book, (, ``, graphic, novel, ,, ``, ), 500, p...\n",
       "4                [words, ,, n't, dismiss, film, source, .]\n",
       "                               ...                        \n",
       "64715    [lack, inspiration, traced, back, insipid, cha...\n",
       "64716    [like, many, skits, current, incarnation, _sat...\n",
       "64717    [watching, one, ``, roxbury, ``, skits, snl, ,...\n",
       "64718       [bump, unsuspecting, women, ,, ., ., ., 's, .]\n",
       "64719    [watching, _a_night_at_the_roxbury_, ,, 'll, l...\n",
       "Name: tokens, Length: 64720, dtype: object"
      ]
     },
     "execution_count": 14,
     "metadata": {},
     "output_type": "execute_result"
    }
   ],
   "source": [
    "df['tokens']"
   ]
  },
  {
   "cell_type": "markdown",
   "id": "d3f5733b-beab-4e7f-aadf-bdd4f9a7e263",
   "metadata": {},
   "source": [
    "### Stemming\n",
    "Reduces words to their root form (e.g., 'running' to 'run') to unify different forms of a word."
   ]
  },
  {
   "cell_type": "code",
   "execution_count": 15,
   "id": "17d0870a-cca7-47c0-9d36-bc4440b90b2b",
   "metadata": {},
   "outputs": [],
   "source": [
    "from nltk.stem import PorterStemmer\n",
    "stemmer = PorterStemmer()\n",
    "df['tokens'] = df['tokens'].apply(lambda x: [stemmer.stem(word) for word in x])\n"
   ]
  },
  {
   "cell_type": "code",
   "execution_count": 16,
   "id": "37a8aea1-2233-4546-9870-ca6a54801e5c",
   "metadata": {},
   "outputs": [
    {
     "data": {
      "text/plain": [
       "0        [film, adapt, comic, book, plenti, success, ,,...\n",
       "1        [starter, ,, creat, alan, moor, (, eddi, campb...\n",
       "2        [say, moor, campbel, thoroughli, research, sub...\n",
       "3        [book, (, ``, graphic, novel, ,, ``, ), 500, p...\n",
       "4                  [word, ,, n't, dismiss, film, sourc, .]\n",
       "                               ...                        \n",
       "64715     [lack, inspir, trace, back, insipid, charact, .]\n",
       "64716    [like, mani, skit, current, incarn, _saturday_...\n",
       "64717    [watch, one, ``, roxburi, ``, skit, snl, ,, co...\n",
       "64718          [bump, unsuspect, women, ,, ., ., ., 's, .]\n",
       "64719    [watch, _a_night_at_the_roxbury_, ,, 'll, left...\n",
       "Name: tokens, Length: 64720, dtype: object"
      ]
     },
     "execution_count": 16,
     "metadata": {},
     "output_type": "execute_result"
    }
   ],
   "source": [
    "df['tokens']"
   ]
  },
  {
   "cell_type": "markdown",
   "id": "1b8335f7-f999-45d9-922a-9545c36f8bec",
   "metadata": {},
   "source": [
    "### Vectorization (TF-IDF)\n",
    "Converts the textual data into numerical format using TF-IDF (Term Frequency-Inverse Document Frequency), capturing the importance of words in the reviews."
   ]
  },
  {
   "cell_type": "code",
   "execution_count": 17,
   "id": "f905118b-3c20-4fc5-ab61-877d60649147",
   "metadata": {},
   "outputs": [],
   "source": [
    "from sklearn.feature_extraction.text import TfidfVectorizer\n",
    "vectorizer = TfidfVectorizer()\n",
    "X = vectorizer.fit_transform(df['text'])\n",
    "y = df['tag']\n"
   ]
  },
  {
   "cell_type": "code",
   "execution_count": 18,
   "id": "ee53fb73-1825-4a69-8749-5fb8186dd377",
   "metadata": {},
   "outputs": [
    {
     "data": {
      "text/plain": [
       "<64720x39659 sparse matrix of type '<class 'numpy.float64'>'\n",
       "\twith 1148672 stored elements in Compressed Sparse Row format>"
      ]
     },
     "execution_count": 18,
     "metadata": {},
     "output_type": "execute_result"
    }
   ],
   "source": [
    "X"
   ]
  },
  {
   "cell_type": "code",
   "execution_count": 19,
   "id": "280f54b5-3afd-405d-8d37-a0a68e7b3481",
   "metadata": {},
   "outputs": [
    {
     "data": {
      "text/plain": [
       "0        pos\n",
       "1        pos\n",
       "2        pos\n",
       "3        pos\n",
       "4        pos\n",
       "        ... \n",
       "64715    neg\n",
       "64716    neg\n",
       "64717    neg\n",
       "64718    neg\n",
       "64719    neg\n",
       "Name: tag, Length: 64720, dtype: object"
      ]
     },
     "execution_count": 19,
     "metadata": {},
     "output_type": "execute_result"
    }
   ],
   "source": [
    "y"
   ]
  },
  {
   "cell_type": "markdown",
   "id": "852a70c7-47b4-415c-96e3-504742c5c9b9",
   "metadata": {},
   "source": [
    "## 5. Sentiment Analysis Model"
   ]
  },
  {
   "cell_type": "markdown",
   "id": "57c415f0-0e2b-4140-8f0b-7bacae33fcce",
   "metadata": {},
   "source": [
    "### Train-Test Split\n",
    "Splitting the data into training and testing sets to evaluate the model's performance."
   ]
  },
  {
   "cell_type": "code",
   "execution_count": 20,
   "id": "d5b8638b-31d0-41dc-9b53-71f689ecbc32",
   "metadata": {},
   "outputs": [],
   "source": [
    "from sklearn.model_selection import train_test_split\n",
    "X_train, X_test, y_train, y_test = train_test_split(X, y, test_size=0.2, random_state=42)\n"
   ]
  },
  {
   "cell_type": "markdown",
   "id": "d8408ecf-6119-4e09-a3b1-88f109917519",
   "metadata": {},
   "source": [
    "### Model Training (Logistic Regression)\n",
    "Training a Logistic Regression model on the training data to classify reviews as positive or negative"
   ]
  },
  {
   "cell_type": "code",
   "execution_count": 21,
   "id": "9bd0956d-7c51-4001-bb56-267bab536fd8",
   "metadata": {},
   "outputs": [
    {
     "data": {
      "text/html": [
       "<style>#sk-container-id-1 {\n",
       "  /* Definition of color scheme common for light and dark mode */\n",
       "  --sklearn-color-text: #000;\n",
       "  --sklearn-color-text-muted: #666;\n",
       "  --sklearn-color-line: gray;\n",
       "  /* Definition of color scheme for unfitted estimators */\n",
       "  --sklearn-color-unfitted-level-0: #fff5e6;\n",
       "  --sklearn-color-unfitted-level-1: #f6e4d2;\n",
       "  --sklearn-color-unfitted-level-2: #ffe0b3;\n",
       "  --sklearn-color-unfitted-level-3: chocolate;\n",
       "  /* Definition of color scheme for fitted estimators */\n",
       "  --sklearn-color-fitted-level-0: #f0f8ff;\n",
       "  --sklearn-color-fitted-level-1: #d4ebff;\n",
       "  --sklearn-color-fitted-level-2: #b3dbfd;\n",
       "  --sklearn-color-fitted-level-3: cornflowerblue;\n",
       "\n",
       "  /* Specific color for light theme */\n",
       "  --sklearn-color-text-on-default-background: var(--sg-text-color, var(--theme-code-foreground, var(--jp-content-font-color1, black)));\n",
       "  --sklearn-color-background: var(--sg-background-color, var(--theme-background, var(--jp-layout-color0, white)));\n",
       "  --sklearn-color-border-box: var(--sg-text-color, var(--theme-code-foreground, var(--jp-content-font-color1, black)));\n",
       "  --sklearn-color-icon: #696969;\n",
       "\n",
       "  @media (prefers-color-scheme: dark) {\n",
       "    /* Redefinition of color scheme for dark theme */\n",
       "    --sklearn-color-text-on-default-background: var(--sg-text-color, var(--theme-code-foreground, var(--jp-content-font-color1, white)));\n",
       "    --sklearn-color-background: var(--sg-background-color, var(--theme-background, var(--jp-layout-color0, #111)));\n",
       "    --sklearn-color-border-box: var(--sg-text-color, var(--theme-code-foreground, var(--jp-content-font-color1, white)));\n",
       "    --sklearn-color-icon: #878787;\n",
       "  }\n",
       "}\n",
       "\n",
       "#sk-container-id-1 {\n",
       "  color: var(--sklearn-color-text);\n",
       "}\n",
       "\n",
       "#sk-container-id-1 pre {\n",
       "  padding: 0;\n",
       "}\n",
       "\n",
       "#sk-container-id-1 input.sk-hidden--visually {\n",
       "  border: 0;\n",
       "  clip: rect(1px 1px 1px 1px);\n",
       "  clip: rect(1px, 1px, 1px, 1px);\n",
       "  height: 1px;\n",
       "  margin: -1px;\n",
       "  overflow: hidden;\n",
       "  padding: 0;\n",
       "  position: absolute;\n",
       "  width: 1px;\n",
       "}\n",
       "\n",
       "#sk-container-id-1 div.sk-dashed-wrapped {\n",
       "  border: 1px dashed var(--sklearn-color-line);\n",
       "  margin: 0 0.4em 0.5em 0.4em;\n",
       "  box-sizing: border-box;\n",
       "  padding-bottom: 0.4em;\n",
       "  background-color: var(--sklearn-color-background);\n",
       "}\n",
       "\n",
       "#sk-container-id-1 div.sk-container {\n",
       "  /* jupyter's `normalize.less` sets `[hidden] { display: none; }`\n",
       "     but bootstrap.min.css set `[hidden] { display: none !important; }`\n",
       "     so we also need the `!important` here to be able to override the\n",
       "     default hidden behavior on the sphinx rendered scikit-learn.org.\n",
       "     See: https://github.com/scikit-learn/scikit-learn/issues/21755 */\n",
       "  display: inline-block !important;\n",
       "  position: relative;\n",
       "}\n",
       "\n",
       "#sk-container-id-1 div.sk-text-repr-fallback {\n",
       "  display: none;\n",
       "}\n",
       "\n",
       "div.sk-parallel-item,\n",
       "div.sk-serial,\n",
       "div.sk-item {\n",
       "  /* draw centered vertical line to link estimators */\n",
       "  background-image: linear-gradient(var(--sklearn-color-text-on-default-background), var(--sklearn-color-text-on-default-background));\n",
       "  background-size: 2px 100%;\n",
       "  background-repeat: no-repeat;\n",
       "  background-position: center center;\n",
       "}\n",
       "\n",
       "/* Parallel-specific style estimator block */\n",
       "\n",
       "#sk-container-id-1 div.sk-parallel-item::after {\n",
       "  content: \"\";\n",
       "  width: 100%;\n",
       "  border-bottom: 2px solid var(--sklearn-color-text-on-default-background);\n",
       "  flex-grow: 1;\n",
       "}\n",
       "\n",
       "#sk-container-id-1 div.sk-parallel {\n",
       "  display: flex;\n",
       "  align-items: stretch;\n",
       "  justify-content: center;\n",
       "  background-color: var(--sklearn-color-background);\n",
       "  position: relative;\n",
       "}\n",
       "\n",
       "#sk-container-id-1 div.sk-parallel-item {\n",
       "  display: flex;\n",
       "  flex-direction: column;\n",
       "}\n",
       "\n",
       "#sk-container-id-1 div.sk-parallel-item:first-child::after {\n",
       "  align-self: flex-end;\n",
       "  width: 50%;\n",
       "}\n",
       "\n",
       "#sk-container-id-1 div.sk-parallel-item:last-child::after {\n",
       "  align-self: flex-start;\n",
       "  width: 50%;\n",
       "}\n",
       "\n",
       "#sk-container-id-1 div.sk-parallel-item:only-child::after {\n",
       "  width: 0;\n",
       "}\n",
       "\n",
       "/* Serial-specific style estimator block */\n",
       "\n",
       "#sk-container-id-1 div.sk-serial {\n",
       "  display: flex;\n",
       "  flex-direction: column;\n",
       "  align-items: center;\n",
       "  background-color: var(--sklearn-color-background);\n",
       "  padding-right: 1em;\n",
       "  padding-left: 1em;\n",
       "}\n",
       "\n",
       "\n",
       "/* Toggleable style: style used for estimator/Pipeline/ColumnTransformer box that is\n",
       "clickable and can be expanded/collapsed.\n",
       "- Pipeline and ColumnTransformer use this feature and define the default style\n",
       "- Estimators will overwrite some part of the style using the `sk-estimator` class\n",
       "*/\n",
       "\n",
       "/* Pipeline and ColumnTransformer style (default) */\n",
       "\n",
       "#sk-container-id-1 div.sk-toggleable {\n",
       "  /* Default theme specific background. It is overwritten whether we have a\n",
       "  specific estimator or a Pipeline/ColumnTransformer */\n",
       "  background-color: var(--sklearn-color-background);\n",
       "}\n",
       "\n",
       "/* Toggleable label */\n",
       "#sk-container-id-1 label.sk-toggleable__label {\n",
       "  cursor: pointer;\n",
       "  display: flex;\n",
       "  width: 100%;\n",
       "  margin-bottom: 0;\n",
       "  padding: 0.5em;\n",
       "  box-sizing: border-box;\n",
       "  text-align: center;\n",
       "  align-items: start;\n",
       "  justify-content: space-between;\n",
       "  gap: 0.5em;\n",
       "}\n",
       "\n",
       "#sk-container-id-1 label.sk-toggleable__label .caption {\n",
       "  font-size: 0.6rem;\n",
       "  font-weight: lighter;\n",
       "  color: var(--sklearn-color-text-muted);\n",
       "}\n",
       "\n",
       "#sk-container-id-1 label.sk-toggleable__label-arrow:before {\n",
       "  /* Arrow on the left of the label */\n",
       "  content: \"▸\";\n",
       "  float: left;\n",
       "  margin-right: 0.25em;\n",
       "  color: var(--sklearn-color-icon);\n",
       "}\n",
       "\n",
       "#sk-container-id-1 label.sk-toggleable__label-arrow:hover:before {\n",
       "  color: var(--sklearn-color-text);\n",
       "}\n",
       "\n",
       "/* Toggleable content - dropdown */\n",
       "\n",
       "#sk-container-id-1 div.sk-toggleable__content {\n",
       "  max-height: 0;\n",
       "  max-width: 0;\n",
       "  overflow: hidden;\n",
       "  text-align: left;\n",
       "  /* unfitted */\n",
       "  background-color: var(--sklearn-color-unfitted-level-0);\n",
       "}\n",
       "\n",
       "#sk-container-id-1 div.sk-toggleable__content.fitted {\n",
       "  /* fitted */\n",
       "  background-color: var(--sklearn-color-fitted-level-0);\n",
       "}\n",
       "\n",
       "#sk-container-id-1 div.sk-toggleable__content pre {\n",
       "  margin: 0.2em;\n",
       "  border-radius: 0.25em;\n",
       "  color: var(--sklearn-color-text);\n",
       "  /* unfitted */\n",
       "  background-color: var(--sklearn-color-unfitted-level-0);\n",
       "}\n",
       "\n",
       "#sk-container-id-1 div.sk-toggleable__content.fitted pre {\n",
       "  /* unfitted */\n",
       "  background-color: var(--sklearn-color-fitted-level-0);\n",
       "}\n",
       "\n",
       "#sk-container-id-1 input.sk-toggleable__control:checked~div.sk-toggleable__content {\n",
       "  /* Expand drop-down */\n",
       "  max-height: 200px;\n",
       "  max-width: 100%;\n",
       "  overflow: auto;\n",
       "}\n",
       "\n",
       "#sk-container-id-1 input.sk-toggleable__control:checked~label.sk-toggleable__label-arrow:before {\n",
       "  content: \"▾\";\n",
       "}\n",
       "\n",
       "/* Pipeline/ColumnTransformer-specific style */\n",
       "\n",
       "#sk-container-id-1 div.sk-label input.sk-toggleable__control:checked~label.sk-toggleable__label {\n",
       "  color: var(--sklearn-color-text);\n",
       "  background-color: var(--sklearn-color-unfitted-level-2);\n",
       "}\n",
       "\n",
       "#sk-container-id-1 div.sk-label.fitted input.sk-toggleable__control:checked~label.sk-toggleable__label {\n",
       "  background-color: var(--sklearn-color-fitted-level-2);\n",
       "}\n",
       "\n",
       "/* Estimator-specific style */\n",
       "\n",
       "/* Colorize estimator box */\n",
       "#sk-container-id-1 div.sk-estimator input.sk-toggleable__control:checked~label.sk-toggleable__label {\n",
       "  /* unfitted */\n",
       "  background-color: var(--sklearn-color-unfitted-level-2);\n",
       "}\n",
       "\n",
       "#sk-container-id-1 div.sk-estimator.fitted input.sk-toggleable__control:checked~label.sk-toggleable__label {\n",
       "  /* fitted */\n",
       "  background-color: var(--sklearn-color-fitted-level-2);\n",
       "}\n",
       "\n",
       "#sk-container-id-1 div.sk-label label.sk-toggleable__label,\n",
       "#sk-container-id-1 div.sk-label label {\n",
       "  /* The background is the default theme color */\n",
       "  color: var(--sklearn-color-text-on-default-background);\n",
       "}\n",
       "\n",
       "/* On hover, darken the color of the background */\n",
       "#sk-container-id-1 div.sk-label:hover label.sk-toggleable__label {\n",
       "  color: var(--sklearn-color-text);\n",
       "  background-color: var(--sklearn-color-unfitted-level-2);\n",
       "}\n",
       "\n",
       "/* Label box, darken color on hover, fitted */\n",
       "#sk-container-id-1 div.sk-label.fitted:hover label.sk-toggleable__label.fitted {\n",
       "  color: var(--sklearn-color-text);\n",
       "  background-color: var(--sklearn-color-fitted-level-2);\n",
       "}\n",
       "\n",
       "/* Estimator label */\n",
       "\n",
       "#sk-container-id-1 div.sk-label label {\n",
       "  font-family: monospace;\n",
       "  font-weight: bold;\n",
       "  display: inline-block;\n",
       "  line-height: 1.2em;\n",
       "}\n",
       "\n",
       "#sk-container-id-1 div.sk-label-container {\n",
       "  text-align: center;\n",
       "}\n",
       "\n",
       "/* Estimator-specific */\n",
       "#sk-container-id-1 div.sk-estimator {\n",
       "  font-family: monospace;\n",
       "  border: 1px dotted var(--sklearn-color-border-box);\n",
       "  border-radius: 0.25em;\n",
       "  box-sizing: border-box;\n",
       "  margin-bottom: 0.5em;\n",
       "  /* unfitted */\n",
       "  background-color: var(--sklearn-color-unfitted-level-0);\n",
       "}\n",
       "\n",
       "#sk-container-id-1 div.sk-estimator.fitted {\n",
       "  /* fitted */\n",
       "  background-color: var(--sklearn-color-fitted-level-0);\n",
       "}\n",
       "\n",
       "/* on hover */\n",
       "#sk-container-id-1 div.sk-estimator:hover {\n",
       "  /* unfitted */\n",
       "  background-color: var(--sklearn-color-unfitted-level-2);\n",
       "}\n",
       "\n",
       "#sk-container-id-1 div.sk-estimator.fitted:hover {\n",
       "  /* fitted */\n",
       "  background-color: var(--sklearn-color-fitted-level-2);\n",
       "}\n",
       "\n",
       "/* Specification for estimator info (e.g. \"i\" and \"?\") */\n",
       "\n",
       "/* Common style for \"i\" and \"?\" */\n",
       "\n",
       ".sk-estimator-doc-link,\n",
       "a:link.sk-estimator-doc-link,\n",
       "a:visited.sk-estimator-doc-link {\n",
       "  float: right;\n",
       "  font-size: smaller;\n",
       "  line-height: 1em;\n",
       "  font-family: monospace;\n",
       "  background-color: var(--sklearn-color-background);\n",
       "  border-radius: 1em;\n",
       "  height: 1em;\n",
       "  width: 1em;\n",
       "  text-decoration: none !important;\n",
       "  margin-left: 0.5em;\n",
       "  text-align: center;\n",
       "  /* unfitted */\n",
       "  border: var(--sklearn-color-unfitted-level-1) 1pt solid;\n",
       "  color: var(--sklearn-color-unfitted-level-1);\n",
       "}\n",
       "\n",
       ".sk-estimator-doc-link.fitted,\n",
       "a:link.sk-estimator-doc-link.fitted,\n",
       "a:visited.sk-estimator-doc-link.fitted {\n",
       "  /* fitted */\n",
       "  border: var(--sklearn-color-fitted-level-1) 1pt solid;\n",
       "  color: var(--sklearn-color-fitted-level-1);\n",
       "}\n",
       "\n",
       "/* On hover */\n",
       "div.sk-estimator:hover .sk-estimator-doc-link:hover,\n",
       ".sk-estimator-doc-link:hover,\n",
       "div.sk-label-container:hover .sk-estimator-doc-link:hover,\n",
       ".sk-estimator-doc-link:hover {\n",
       "  /* unfitted */\n",
       "  background-color: var(--sklearn-color-unfitted-level-3);\n",
       "  color: var(--sklearn-color-background);\n",
       "  text-decoration: none;\n",
       "}\n",
       "\n",
       "div.sk-estimator.fitted:hover .sk-estimator-doc-link.fitted:hover,\n",
       ".sk-estimator-doc-link.fitted:hover,\n",
       "div.sk-label-container:hover .sk-estimator-doc-link.fitted:hover,\n",
       ".sk-estimator-doc-link.fitted:hover {\n",
       "  /* fitted */\n",
       "  background-color: var(--sklearn-color-fitted-level-3);\n",
       "  color: var(--sklearn-color-background);\n",
       "  text-decoration: none;\n",
       "}\n",
       "\n",
       "/* Span, style for the box shown on hovering the info icon */\n",
       ".sk-estimator-doc-link span {\n",
       "  display: none;\n",
       "  z-index: 9999;\n",
       "  position: relative;\n",
       "  font-weight: normal;\n",
       "  right: .2ex;\n",
       "  padding: .5ex;\n",
       "  margin: .5ex;\n",
       "  width: min-content;\n",
       "  min-width: 20ex;\n",
       "  max-width: 50ex;\n",
       "  color: var(--sklearn-color-text);\n",
       "  box-shadow: 2pt 2pt 4pt #999;\n",
       "  /* unfitted */\n",
       "  background: var(--sklearn-color-unfitted-level-0);\n",
       "  border: .5pt solid var(--sklearn-color-unfitted-level-3);\n",
       "}\n",
       "\n",
       ".sk-estimator-doc-link.fitted span {\n",
       "  /* fitted */\n",
       "  background: var(--sklearn-color-fitted-level-0);\n",
       "  border: var(--sklearn-color-fitted-level-3);\n",
       "}\n",
       "\n",
       ".sk-estimator-doc-link:hover span {\n",
       "  display: block;\n",
       "}\n",
       "\n",
       "/* \"?\"-specific style due to the `<a>` HTML tag */\n",
       "\n",
       "#sk-container-id-1 a.estimator_doc_link {\n",
       "  float: right;\n",
       "  font-size: 1rem;\n",
       "  line-height: 1em;\n",
       "  font-family: monospace;\n",
       "  background-color: var(--sklearn-color-background);\n",
       "  border-radius: 1rem;\n",
       "  height: 1rem;\n",
       "  width: 1rem;\n",
       "  text-decoration: none;\n",
       "  /* unfitted */\n",
       "  color: var(--sklearn-color-unfitted-level-1);\n",
       "  border: var(--sklearn-color-unfitted-level-1) 1pt solid;\n",
       "}\n",
       "\n",
       "#sk-container-id-1 a.estimator_doc_link.fitted {\n",
       "  /* fitted */\n",
       "  border: var(--sklearn-color-fitted-level-1) 1pt solid;\n",
       "  color: var(--sklearn-color-fitted-level-1);\n",
       "}\n",
       "\n",
       "/* On hover */\n",
       "#sk-container-id-1 a.estimator_doc_link:hover {\n",
       "  /* unfitted */\n",
       "  background-color: var(--sklearn-color-unfitted-level-3);\n",
       "  color: var(--sklearn-color-background);\n",
       "  text-decoration: none;\n",
       "}\n",
       "\n",
       "#sk-container-id-1 a.estimator_doc_link.fitted:hover {\n",
       "  /* fitted */\n",
       "  background-color: var(--sklearn-color-fitted-level-3);\n",
       "}\n",
       "</style><div id=\"sk-container-id-1\" class=\"sk-top-container\"><div class=\"sk-text-repr-fallback\"><pre>LogisticRegression()</pre><b>In a Jupyter environment, please rerun this cell to show the HTML representation or trust the notebook. <br />On GitHub, the HTML representation is unable to render, please try loading this page with nbviewer.org.</b></div><div class=\"sk-container\" hidden><div class=\"sk-item\"><div class=\"sk-estimator fitted sk-toggleable\"><input class=\"sk-toggleable__control sk-hidden--visually\" id=\"sk-estimator-id-1\" type=\"checkbox\" checked><label for=\"sk-estimator-id-1\" class=\"sk-toggleable__label fitted sk-toggleable__label-arrow\"><div><div>LogisticRegression</div></div><div><a class=\"sk-estimator-doc-link fitted\" rel=\"noreferrer\" target=\"_blank\" href=\"https://scikit-learn.org/1.6/modules/generated/sklearn.linear_model.LogisticRegression.html\">?<span>Documentation for LogisticRegression</span></a><span class=\"sk-estimator-doc-link fitted\">i<span>Fitted</span></span></div></label><div class=\"sk-toggleable__content fitted\"><pre>LogisticRegression()</pre></div> </div></div></div></div>"
      ],
      "text/plain": [
       "LogisticRegression()"
      ]
     },
     "execution_count": 21,
     "metadata": {},
     "output_type": "execute_result"
    }
   ],
   "source": [
    "from sklearn.linear_model import LogisticRegression\n",
    "model = LogisticRegression()\n",
    "model.fit(X_train, y_train)\n"
   ]
  },
  {
   "cell_type": "markdown",
   "id": "50cf4730-567e-48c7-8211-c1a50cd77924",
   "metadata": {},
   "source": [
    "### Model Evaluation\n",
    "Predicting the sentiment of the test data and printing a report showing the model's accuracy, precision, recall, and F1-score."
   ]
  },
  {
   "cell_type": "code",
   "execution_count": 22,
   "id": "9681d639-2bc3-4b74-98f3-3aba154bf53e",
   "metadata": {},
   "outputs": [
    {
     "name": "stdout",
     "output_type": "stream",
     "text": [
      "              precision    recall  f1-score   support\n",
      "\n",
      "         neg       0.69      0.68      0.68      6371\n",
      "         pos       0.69      0.71      0.70      6573\n",
      "\n",
      "    accuracy                           0.69     12944\n",
      "   macro avg       0.69      0.69      0.69     12944\n",
      "weighted avg       0.69      0.69      0.69     12944\n",
      "\n"
     ]
    }
   ],
   "source": [
    "from sklearn.metrics import classification_report\n",
    "y_pred = model.predict(X_test)\n",
    "print(classification_report(y_test, y_pred))\n"
   ]
  },
  {
   "cell_type": "markdown",
   "id": "4a3d3f67-1e99-415d-96d0-334cdabf9e13",
   "metadata": {},
   "source": [
    "> Test set Accuracy is 69%"
   ]
  },
  {
   "cell_type": "markdown",
   "id": "657e573b-cd99-43f8-b69b-0516098ac11d",
   "metadata": {},
   "source": [
    "## Multinomial Naive Bayes\n",
    "Train and evaluate the Multinomial Naive Bayes model"
   ]
  },
  {
   "cell_type": "code",
   "execution_count": 23,
   "id": "ac3ffe60-c947-4952-83be-60d3e234074a",
   "metadata": {},
   "outputs": [
    {
     "name": "stdout",
     "output_type": "stream",
     "text": [
      "Multinomial Naive Bayes:\n",
      "Accuracy: 0.7106\n",
      "F1 Score: 0.7102\n",
      "              precision    recall  f1-score   support\n",
      "\n",
      "         neg       0.72      0.67      0.70      6371\n",
      "         pos       0.70      0.75      0.72      6573\n",
      "\n",
      "    accuracy                           0.71     12944\n",
      "   macro avg       0.71      0.71      0.71     12944\n",
      "weighted avg       0.71      0.71      0.71     12944\n",
      "\n"
     ]
    }
   ],
   "source": [
    "from sklearn.naive_bayes import MultinomialNB\n",
    "from sklearn.metrics import accuracy_score, f1_score, classification_report, confusion_matrix\n",
    "\n",
    "# Initialize and train the Multinomial Naive Bayes model\n",
    "nb_model = MultinomialNB()\n",
    "nb_model.fit(X_train, y_train)\n",
    "\n",
    "# Predict on the test set\n",
    "y_pred_nb = nb_model.predict(X_test)\n",
    "\n",
    "# Print accuracy and F1 score\n",
    "print(\"Multinomial Naive Bayes:\")\n",
    "print(f\"Accuracy: {accuracy_score(y_test, y_pred_nb):.4f}\")\n",
    "print(f\"F1 Score: {f1_score(y_test, y_pred_nb, average='weighted'):.4f}\")\n",
    "print(classification_report(y_test, y_pred_nb))\n"
   ]
  },
  {
   "cell_type": "markdown",
   "id": "1b33ae48-0128-4300-8311-9905a7d3ba37",
   "metadata": {},
   "source": [
    "## 6. Customer Segmentation with K-Means Clustering"
   ]
  },
  {
   "cell_type": "markdown",
   "id": "bc24d1e4-af5c-4c62-98e3-3fe958216ed8",
   "metadata": {},
   "source": [
    "### Simulate Customer Data\n",
    "Generating a synthetic dataset for 100 customers, including the number of purchases, average purchase value, and recency (days since last purchase)."
   ]
  },
  {
   "cell_type": "code",
   "execution_count": 24,
   "id": "32fd81da-c378-4059-81f6-3ecdcabd698f",
   "metadata": {},
   "outputs": [],
   "source": [
    "np.random.seed(42)\n",
    "customer_data = {\n",
    "    'customer_id': range(1, 101),\n",
    "    'num_purchases': np.random.randint(1, 20, 100),\n",
    "    'avg_purchase_value': np.random.uniform(10, 500, 100),\n",
    "    'recency': np.random.randint(1, 365, 100),\n",
    "}\n",
    "df_customers = pd.DataFrame(customer_data)\n"
   ]
  },
  {
   "cell_type": "code",
   "execution_count": 25,
   "id": "a533d233-50ad-4f1b-a472-10eb0d4bf8bb",
   "metadata": {},
   "outputs": [
    {
     "data": {
      "text/html": [
       "<div>\n",
       "<style scoped>\n",
       "    .dataframe tbody tr th:only-of-type {\n",
       "        vertical-align: middle;\n",
       "    }\n",
       "\n",
       "    .dataframe tbody tr th {\n",
       "        vertical-align: top;\n",
       "    }\n",
       "\n",
       "    .dataframe thead th {\n",
       "        text-align: right;\n",
       "    }\n",
       "</style>\n",
       "<table border=\"1\" class=\"dataframe\">\n",
       "  <thead>\n",
       "    <tr style=\"text-align: right;\">\n",
       "      <th></th>\n",
       "      <th>customer_id</th>\n",
       "      <th>num_purchases</th>\n",
       "      <th>avg_purchase_value</th>\n",
       "      <th>recency</th>\n",
       "    </tr>\n",
       "  </thead>\n",
       "  <tbody>\n",
       "    <tr>\n",
       "      <th>0</th>\n",
       "      <td>1</td>\n",
       "      <td>7</td>\n",
       "      <td>144.613679</td>\n",
       "      <td>60</td>\n",
       "    </tr>\n",
       "    <tr>\n",
       "      <th>1</th>\n",
       "      <td>2</td>\n",
       "      <td>15</td>\n",
       "      <td>285.009279</td>\n",
       "      <td>2</td>\n",
       "    </tr>\n",
       "    <tr>\n",
       "      <th>2</th>\n",
       "      <td>3</td>\n",
       "      <td>11</td>\n",
       "      <td>197.634169</td>\n",
       "      <td>304</td>\n",
       "    </tr>\n",
       "    <tr>\n",
       "      <th>3</th>\n",
       "      <td>4</td>\n",
       "      <td>8</td>\n",
       "      <td>486.138927</td>\n",
       "      <td>254</td>\n",
       "    </tr>\n",
       "    <tr>\n",
       "      <th>4</th>\n",
       "      <td>5</td>\n",
       "      <td>7</td>\n",
       "      <td>425.967774</td>\n",
       "      <td>140</td>\n",
       "    </tr>\n",
       "    <tr>\n",
       "      <th>...</th>\n",
       "      <td>...</td>\n",
       "      <td>...</td>\n",
       "      <td>...</td>\n",
       "      <td>...</td>\n",
       "    </tr>\n",
       "    <tr>\n",
       "      <th>95</th>\n",
       "      <td>96</td>\n",
       "      <td>16</td>\n",
       "      <td>275.309507</td>\n",
       "      <td>360</td>\n",
       "    </tr>\n",
       "    <tr>\n",
       "      <th>96</th>\n",
       "      <td>97</td>\n",
       "      <td>5</td>\n",
       "      <td>350.934356</td>\n",
       "      <td>174</td>\n",
       "    </tr>\n",
       "    <tr>\n",
       "      <th>97</th>\n",
       "      <td>98</td>\n",
       "      <td>3</td>\n",
       "      <td>121.989511</td>\n",
       "      <td>280</td>\n",
       "    </tr>\n",
       "    <tr>\n",
       "      <th>98</th>\n",
       "      <td>99</td>\n",
       "      <td>12</td>\n",
       "      <td>95.727914</td>\n",
       "      <td>114</td>\n",
       "    </tr>\n",
       "    <tr>\n",
       "      <th>99</th>\n",
       "      <td>100</td>\n",
       "      <td>8</td>\n",
       "      <td>491.262488</td>\n",
       "      <td>288</td>\n",
       "    </tr>\n",
       "  </tbody>\n",
       "</table>\n",
       "<p>100 rows × 4 columns</p>\n",
       "</div>"
      ],
      "text/plain": [
       "    customer_id  num_purchases  avg_purchase_value  recency\n",
       "0             1              7          144.613679       60\n",
       "1             2             15          285.009279        2\n",
       "2             3             11          197.634169      304\n",
       "3             4              8          486.138927      254\n",
       "4             5              7          425.967774      140\n",
       "..          ...            ...                 ...      ...\n",
       "95           96             16          275.309507      360\n",
       "96           97              5          350.934356      174\n",
       "97           98              3          121.989511      280\n",
       "98           99             12           95.727914      114\n",
       "99          100              8          491.262488      288\n",
       "\n",
       "[100 rows x 4 columns]"
      ]
     },
     "execution_count": 25,
     "metadata": {},
     "output_type": "execute_result"
    }
   ],
   "source": [
    "df_customers"
   ]
  },
  {
   "cell_type": "markdown",
   "id": "6a2569de-2911-4fc2-b8b6-37a49266d125",
   "metadata": {},
   "source": [
    "### Feature Scaling\n",
    "Scaling the customer features to ensure they are on a similar scale, which is crucial for K-Means clustering."
   ]
  },
  {
   "cell_type": "code",
   "execution_count": 26,
   "id": "eebec213-b012-4c9a-a4cd-4c82f25499e0",
   "metadata": {},
   "outputs": [],
   "source": [
    "from sklearn.preprocessing import StandardScaler\n",
    "scaler = StandardScaler()\n",
    "features = ['num_purchases', 'avg_purchase_value', 'recency']\n",
    "df_customers_scaled = scaler.fit_transform(df_customers[features])\n"
   ]
  },
  {
   "cell_type": "code",
   "execution_count": 27,
   "id": "37069540-79b5-49a0-979d-b8ae109b01f5",
   "metadata": {
    "scrolled": true
   },
   "outputs": [
    {
     "data": {
      "text/plain": [
       "array([[-0.50097131, -0.76539054, -1.12959609],\n",
       "       [ 1.01712358,  0.2909666 , -1.71057129],\n",
       "       [ 0.25807613, -0.36645658,  1.31450647],\n",
       "       [-0.31120945,  1.80429565,  0.81366578],\n",
       "       [-0.50097131,  1.35155905, -0.32825099],\n",
       "       [ 1.77617103,  0.88265188, -1.3599828 ],\n",
       "       [ 0.25807613, -0.90820689, -0.12791471],\n",
       "       [ 0.25807613, -0.83416276, -1.64045359],\n",
       "       [-1.0702569 , -1.6291718 ,  0.60331269],\n",
       "       [-0.31120945,  0.84185107, -0.73894035],\n",
       "       [-1.26001876, -1.36940782, -0.25813329],\n",
       "       [-1.44978062, -0.15848376,  1.31450647],\n",
       "       [ 0.44783799, -1.03453884,  0.35289235],\n",
       "       [-0.69073318,  1.52428629, -0.41840231],\n",
       "       [-1.44978062, -0.02563348, -0.20804922],\n",
       "       [-1.63954248,  0.29845878, -1.18969697],\n",
       "       [ 0.44783799,  0.78600735, -0.52858726],\n",
       "       [ 0.44783799, -1.26455199, -0.1178979 ],\n",
       "       [ 1.3966473 ,  0.45014172, -0.56865452],\n",
       "       [ 0.06831427,  0.21205979, -0.97934388],\n",
       "       [ 1.20688544, -1.02959102, -0.59870496],\n",
       "       [ 1.01712358,  1.69789912, -0.68885628],\n",
       "       [ 1.01712358,  0.42967275,  1.67511177],\n",
       "       [ 1.77617103,  0.78331171,  0.81366578],\n",
       "       [ 0.44783799,  1.4678934 ,  0.54321181],\n",
       "       [-1.26001876,  0.52364487, -0.60872177],\n",
       "       [-0.88049504, -0.68829191, -0.73894035],\n",
       "       [ 1.77617103, -1.38930404, -0.19803241],\n",
       "       [-0.50097131, -0.09507737,  1.76526309],\n",
       "       [-0.12144759, -0.97289045,  1.65507814],\n",
       "       [-0.50097131, -0.24264143,  0.21265696],\n",
       "       [ 1.58640916,  1.47826232,  1.37460735],\n",
       "       [-1.0702569 , -0.58243804, -0.09786427],\n",
       "       [ 0.82736172, -1.32812587,  0.35289235],\n",
       "       [ 1.58640916, -0.46463336, -0.03776339],\n",
       "       [-0.12144759,  1.56508052, -0.1178979 ],\n",
       "       [-1.44978062, -0.77493776, -1.04946158],\n",
       "       [ 1.01712358,  0.60968105,  1.16425426],\n",
       "       [-0.50097131, -1.77632512,  1.0440525 ],\n",
       "       [ 0.44783799, -0.47838149,  1.31450647],\n",
       "       [-0.31120945, -0.65456634, -0.37833506],\n",
       "       [ 1.01712358, -1.17118518,  0.22267377],\n",
       "       [-1.26001876,  0.19085434, -0.44845275],\n",
       "       [ 0.82736172,  0.00924303, -1.40005006],\n",
       "       [ 1.3966473 ,  0.77465171,  0.03235431],\n",
       "       [-1.0702569 , -0.78496563, -1.51023501],\n",
       "       [ 1.58640916, -0.87819386,  0.65339676],\n",
       "       [-0.31120945, -1.15778285, -0.14794834],\n",
       "       [-1.0702569 , -0.97169672, -1.34996599],\n",
       "       [-1.44978062,  0.2793847 ,  0.57326225],\n",
       "       [-0.69073318, -0.28936751, -1.21974741],\n",
       "       [ 0.06831427, -1.53899684,  0.91383392],\n",
       "       [-1.0702569 , -0.84210017,  1.10415338],\n",
       "       [ 1.58640916, -0.86805307, -1.46015094],\n",
       "       [ 0.44783799,  0.78891326,  0.533195  ],\n",
       "       [-1.44978062,  0.84777839,  1.0440525 ],\n",
       "       [ 0.06831427, -1.23227202,  1.13420382],\n",
       "       [-1.0702569 ,  1.90025795, -0.75897398],\n",
       "       [ 0.82736172, -0.79466686,  1.11417019],\n",
       "       [ 1.20688544,  1.82237168,  1.44472505],\n",
       "       [ 1.01712358, -0.26281922,  1.31450647],\n",
       "       [-0.31120945, -1.65639116, -0.25813329],\n",
       "       [ 0.82736172, -0.50602392, -1.69053766],\n",
       "       [-0.31120945,  0.56050322, -1.38001643],\n",
       "       [ 1.20688544,  0.73140303,  0.19262333],\n",
       "       [ 0.63759986,  0.17922299, -1.23978104],\n",
       "       [ 1.58640916, -0.12734233, -1.56031908],\n",
       "       [ 1.01712358,  0.26018031, -0.00771295],\n",
       "       [ 0.63759986,  0.40692963,  0.47309411],\n",
       "       [-0.12144759, -1.48015102, -0.14794834],\n",
       "       [ 1.01712358, -0.41538976, -1.26983148],\n",
       "       [ 0.63759986, -0.88544063, -1.67050403],\n",
       "       [-1.63954248,  1.18279775, -0.73894035],\n",
       "       [-0.50097131, -0.0443242 ,  0.60331269],\n",
       "       [-0.12144759,  1.84747231, -1.3599828 ],\n",
       "       [-1.63954248, -0.30784492,  1.07410294],\n",
       "       [ 0.44783799,  1.23180355,  1.76526309],\n",
       "       [-0.31120945,  1.16512075,  1.29447284],\n",
       "       [ 0.25807613, -1.22257338,  0.08243838],\n",
       "       [ 1.77617103,  0.09539989, -0.77900761],\n",
       "       [ 1.3966473 ,  0.78710131, -0.73894035],\n",
       "       [-0.31120945,  1.38638111,  0.15255607],\n",
       "       [-1.26001876, -0.57648792, -0.56865452],\n",
       "       [-1.26001876, -0.9662519 ,  0.18260651],\n",
       "       [-1.63954248,  0.84364524,  0.80364897],\n",
       "       [-0.88049504,  1.20625076, -0.1178979 ],\n",
       "       [ 0.06831427, -0.49277072,  0.83369941],\n",
       "       [-0.50097131, -1.42365687,  1.50482593],\n",
       "       [-0.12144759,  1.68930767, -0.44845275],\n",
       "       [-0.50097131, -0.31246238, -1.55030227],\n",
       "       [-0.12144759,  0.13061862,  1.08411975],\n",
       "       [-0.31120945,  1.31025282,  0.50314456],\n",
       "       [ 0.44783799,  0.71291233, -1.18969697],\n",
       "       [-1.44978062,  0.9323747 , -1.14962972],\n",
       "       [-1.63954248, -1.0074317 ,  1.50482593],\n",
       "       [ 1.20688544,  0.21798409,  1.87544804],\n",
       "       [-0.88049504,  0.78699658,  0.01232068],\n",
       "       [-1.26001876, -0.93561811,  1.07410294],\n",
       "       [ 0.44783799, -1.13321422, -0.58868814],\n",
       "       [-0.31120945,  1.84284608,  1.15423745]])"
      ]
     },
     "execution_count": 27,
     "metadata": {},
     "output_type": "execute_result"
    }
   ],
   "source": [
    "df_customers_scaled"
   ]
  },
  {
   "cell_type": "markdown",
   "id": "52401ecf-3c84-496e-9b33-a276371db929",
   "metadata": {},
   "source": [
    "### Elbow Method for Optimal Clusters\n",
    "Ploting the inertia (sum of squared distances) for different numbers of clusters to determine the optimal number using the Elbow Method."
   ]
  },
  {
   "cell_type": "code",
   "execution_count": 28,
   "id": "ce3385d6-75aa-411e-92d8-4c343697497e",
   "metadata": {},
   "outputs": [
    {
     "data": {
      "image/png": "[encoded data removed]",
      "text/plain": [
       "<Figure size 640x480 with 1 Axes>"
      ]
     },
     "metadata": {},
     "output_type": "display_data"
    }
   ],
   "source": [
    "from sklearn.cluster import KMeans\n",
    "inertia = []\n",
    "k_range = range(1, 11)\n",
    "for k in k_range:\n",
    "    kmeans = KMeans(n_clusters=k, random_state=42)\n",
    "    kmeans.fit(df_customers_scaled)\n",
    "    inertia.append(kmeans.inertia_)\n",
    "plt.plot(k_range, inertia, marker='o')\n",
    "plt.xlabel('Number of Clusters')\n",
    "plt.ylabel('Inertia')\n",
    "plt.title('Elbow Method')\n",
    "plt.show()\n"
   ]
  },
  {
   "cell_type": "markdown",
   "id": "a6528532-d4d2-4aa9-91bf-e0ddf6b576b6",
   "metadata": {},
   "source": [
    "### K-Means Clustering\n",
    "Applying K-Means clustering to segment customers into three groups based on their purchasing behavior"
   ]
  },
  {
   "cell_type": "code",
   "execution_count": 29,
   "id": "4f369bc1-e4fa-4bd8-97bd-06d937524eea",
   "metadata": {},
   "outputs": [],
   "source": [
    "kmeans = KMeans(n_clusters=3, random_state=42)\n",
    "df_customers['cluster'] = kmeans.fit_predict(df_customers_scaled)\n"
   ]
  },
  {
   "cell_type": "code",
   "execution_count": 30,
   "id": "bb9cf4d1-7850-4434-bb57-84dbaf3aa60f",
   "metadata": {},
   "outputs": [
    {
     "data": {
      "text/plain": [
       "0     1\n",
       "1     0\n",
       "2     2\n",
       "3     1\n",
       "4     1\n",
       "     ..\n",
       "95    0\n",
       "96    1\n",
       "97    2\n",
       "98    2\n",
       "99    1\n",
       "Name: cluster, Length: 100, dtype: int32"
      ]
     },
     "execution_count": 30,
     "metadata": {},
     "output_type": "execute_result"
    }
   ],
   "source": [
    "df_customers['cluster']"
   ]
  },
  {
   "cell_type": "markdown",
   "id": "7c0e3c1e-7d92-45aa-a45b-dfde88ac3c59",
   "metadata": {},
   "source": [
    "### PCA for Visualization\n",
    "Reducing the dimensionality of the customer data using PCA and visualizes the clusters in a 2D space."
   ]
  },
  {
   "cell_type": "code",
   "execution_count": 31,
   "id": "2eb93b6a-be21-42d1-85ca-6b16469a8cbc",
   "metadata": {},
   "outputs": [
    {
     "data": {
      "image/png": "[encoded data removed]",
      "text/plain": [
       "<Figure size 640x480 with 1 Axes>"
      ]
     },
     "metadata": {},
     "output_type": "display_data"
    }
   ],
   "source": [
    "from sklearn.decomposition import PCA\n",
    "pca = PCA(n_components=2)\n",
    "components = pca.fit_transform(df_customers_scaled)\n",
    "plt.scatter(components[:, 0], components[:, 1], c=df_customers['cluster'], cmap='viridis')\n",
    "plt.xlabel('PCA Component 1')\n",
    "plt.ylabel('PCA Component 2')\n",
    "plt.title('Customer Segments')\n",
    "plt.show()\n"
   ]
  },
  {
   "cell_type": "markdown",
   "id": "c63fa06c-2efc-4326-ad68-dd92482ae1b8",
   "metadata": {},
   "source": [
    "## 7. Sentiment Analysis on Customer Segments"
   ]
  },
  {
   "cell_type": "markdown",
   "id": "56a3720f-3b47-4d5b-a361-9706163a1b1b",
   "metadata": {},
   "source": [
    "### Add Sentiment Data to Customer Segments\n",
    "Assigning sentiment tags to customer segments and examines if certain clusters have predominant sentiments."
   ]
  },
  {
   "cell_type": "code",
   "execution_count": 32,
   "id": "3a678601-ecb5-43c4-aa27-488a1dc59ab7",
   "metadata": {},
   "outputs": [
    {
     "name": "stdout",
     "output_type": "stream",
     "text": [
      "cluster  tag\n",
      "0        pos    1.0\n",
      "1        pos    1.0\n",
      "2        pos    1.0\n",
      "Name: tag, dtype: float64\n"
     ]
    }
   ],
   "source": [
    "df_customers['tag'] = df['tag']\n",
    "sentiment_by_cluster = df_customers.groupby('cluster')['tag'].value_counts(normalize=True)\n",
    "print(sentiment_by_cluster)\n"
   ]
  },
  {
   "cell_type": "markdown",
   "id": "83a543e7-3b64-4b46-aadd-1585f1004f35",
   "metadata": {},
   "source": [
    "### Visualize Sentiment Distribution\n",
    "Displaying the distribution of sentiments across the entire dataset."
   ]
  },
  {
   "cell_type": "code",
   "execution_count": 33,
   "id": "acc8fe16-c061-4519-9b05-ed2f82b907ae",
   "metadata": {},
   "outputs": [
    {
     "data": {
      "image/png": "[encoded data removed]",
      "text/plain": [
       "<Figure size 600x400 with 1 Axes>"
      ]
     },
     "metadata": {},
     "output_type": "display_data"
    }
   ],
   "source": [
    "sentiment_counts = df['tag'].value_counts()\n",
    "plt.figure(figsize=(6, 4))\n",
    "sentiment_counts.plot(kind='bar', color=['green', 'red', 'blue'])\n",
    "plt.title('Distribution of Sentiments in Movie Reviews')\n",
    "plt.xlabel('Sentiment')\n",
    "plt.ylabel('Number of Reviews')\n",
    "plt.xticks(rotation=0)\n",
    "plt.show()\n"
   ]
  },
  {
   "cell_type": "markdown",
   "id": "b58a20ff-c953-43ad-8984-cb6a6933aaba",
   "metadata": {},
   "source": [
    "### Generating Word Clouds\n",
    "Creating word clouds to visualize the most frequent words in positive and negative reviews."
   ]
  },
  {
   "cell_type": "code",
   "execution_count": 34,
   "id": "582a78ee-fcd8-4a80-be60-c0b275bab517",
   "metadata": {
    "scrolled": true
   },
   "outputs": [],
   "source": [
    "# pip install wordcloud"
   ]
  },
  {
   "cell_type": "code",
   "execution_count": 35,
   "id": "97a6e156-6a0e-4d4d-bd13-690dbc1e128e",
   "metadata": {},
   "outputs": [],
   "source": [
    "from wordcloud import WordCloud\n",
    "positive_text = \" \".join(df[df['tag'] == 'pos']['text'])\n",
    "negative_text = \" \".join(df[df['tag'] == 'neg']['text'])\n",
    "wordcloud_pos = WordCloud(width=800, height=400, background_color='white').generate(positive_text)\n",
    "wordcloud_neg = WordCloud(width=800, height=400, background_color='black').generate(negative_text)\n"
   ]
  },
  {
   "cell_type": "markdown",
   "id": "67adb38e-ab99-405b-8249-1df5cf78e82d",
   "metadata": {},
   "source": [
    "### Confusion Matrix\n",
    "Displaying a confusion matrix to analyze the model's performance in classifying sentiments."
   ]
  },
  {
   "cell_type": "code",
   "execution_count": 36,
   "id": "063e6393-08f5-462d-850c-b2953e12596e",
   "metadata": {},
   "outputs": [
    {
     "data": {
      "image/png": "[encoded data removed]",
      "text/plain": [
       "<Figure size 640x480 with 2 Axes>"
      ]
     },
     "metadata": {},
     "output_type": "display_data"
    }
   ],
   "source": [
    "from sklearn.metrics import confusion_matrix, ConfusionMatrixDisplay\n",
    "cm = confusion_matrix(y_test, y_pred, labels=model.classes_)\n",
    "disp = ConfusionMatrixDisplay(confusion_matrix=cm, display_labels=model.classes_)\n",
    "disp.plot(cmap=plt.cm.Blues)\n",
    "plt.title('Confusion Matrix')\n",
    "plt.show()\n"
   ]
  },
  {
   "cell_type": "code",
   "execution_count": 37,
   "id": "01560253-7a00-4330-9d36-f399a43968e8",
   "metadata": {},
   "outputs": [
    {
     "name": "stdout",
     "output_type": "stream",
     "text": [
      "Top 5 suggestions (Multinomial Naive Bayes):\n",
      "Review:   (0, 14073)\t0.07601671713638251\n",
      "  (0, 24386)\t0.040769344338533825\n",
      "  (0, 35280)\t0.15233549644648062\n",
      "  (0, 5187)\t0.0636995896521327\n",
      "  (0, 13695)\t0.06221327211921662\n",
      "  (0, 1810)\t0.07839233748224692\n",
      "  (0, 18583)\t0.04428659745240455\n",
      "  (0, 35277)\t0.05346085713407872\n",
      "  (0, 13176)\t0.06272396189968478\n",
      "  (0, 2396)\t0.06236890803031774\n",
      "  (0, 35266)\t0.18007220245924557\n",
      "  (0, 24501)\t0.06822332725901911\n",
      "  (0, 18386)\t0.08892396701054711\n",
      "  (0, 18280)\t0.11811212624866399\n",
      "  (0, 10316)\t0.09571923269529242\n",
      "  (0, 38475)\t0.09803763187923446\n",
      "  (0, 25903)\t0.14340121782650536\n",
      "  (0, 16534)\t0.13115458826850152\n",
      "  (0, 20444)\t0.09949128487262227\n",
      "  (0, 31293)\t0.12700343057431404\n",
      "  (0, 21500)\t0.10423041899832172\n",
      "  (0, 39428)\t0.1190642474402299\n",
      "  (0, 27253)\t0.12157416322694711\n",
      "  (0, 24521)\t0.08965594624067619\n",
      "  (0, 7014)\t0.11396317433876305\n",
      "  (0, 31205)\t0.1342760502731479\n",
      "  (0, 26594)\t0.2967791595974736\n",
      "  (0, 16076)\t0.12930974580985943\n",
      "  (0, 20116)\t0.19272617971990358\n",
      "  (0, 26743)\t0.15943630363415653\n",
      "  (0, 7281)\t0.1939251957323216\n",
      "  (0, 19962)\t0.17007261969652387\n",
      "  (0, 28242)\t0.11878777464910306\n",
      "  (0, 2136)\t0.15805269876803194\n",
      "  (0, 34634)\t0.19051602487368807\n",
      "  (0, 30789)\t0.1645385627183445\n",
      "  (0, 37951)\t0.17705181137559486\n",
      "  (0, 33052)\t0.20305689311277422\n",
      "  (0, 10685)\t0.1468954353950704\n",
      "  (0, 33049)\t0.1730440324197922\n",
      "  (0, 14838)\t0.1894925502151459\n",
      "  (0, 8668)\t0.1915920078684674\n",
      "  (0, 19853)\t0.18851669661990167\n",
      "  (0, 4951)\t0.22427731561567157\n",
      "  (0, 35544)\t0.22427731561567157\n",
      "  (0, 24248)\t0.23031204240709638\n",
      "Predicted Sentiment: pos\n",
      "\n",
      "Review:   (0, 24386)\t0.09158313562169465\n",
      "  (0, 35280)\t0.0684404552362146\n",
      "  (0, 20492)\t0.09221601082181892\n",
      "  (0, 17608)\t0.05374544367192801\n",
      "  (0, 39013)\t0.06812916690340445\n",
      "  (0, 22311)\t0.1437581618297357\n",
      "  (0, 2396)\t0.070051901194286\n",
      "  (0, 20832)\t0.14126378930787004\n",
      "  (0, 38711)\t0.09577987191575851\n",
      "  (0, 16534)\t0.07365551641609784\n",
      "  (0, 33414)\t0.1437581618297357\n",
      "  (0, 32360)\t0.14197368085586595\n",
      "  (0, 3428)\t0.15041698685812147\n",
      "  (0, 18605)\t0.1704332506306144\n",
      "  (0, 35955)\t0.28763607547137665\n",
      "  (0, 25793)\t0.1473006005753706\n",
      "  (0, 1686)\t0.13607090891651574\n",
      "  (0, 1283)\t0.16440914970291187\n",
      "  (0, 38849)\t0.13460701230990132\n",
      "  (0, 20672)\t0.15633824538634644\n",
      "  (0, 36383)\t0.16513865554013896\n",
      "  (0, 5080)\t0.21283543072891367\n",
      "  (0, 5633)\t0.17099649234416836\n",
      "  (0, 17236)\t0.14473492994089923\n",
      "  (0, 32821)\t0.18132228527640767\n",
      "  (0, 12156)\t0.22238865752017284\n",
      "  (0, 20048)\t0.1923961142523441\n",
      "  (0, 18211)\t0.20872746332084283\n",
      "  (0, 11262)\t0.24664768155040254\n",
      "  (0, 13538)\t0.204431756622146\n",
      "  (0, 22214)\t0.22602062578320697\n",
      "  (0, 30941)\t0.22413472703606308\n",
      "  (0, 20589)\t0.22602062578320697\n",
      "  (0, 5513)\t0.21781411731498543\n",
      "  (0, 12022)\t0.19385397031122334\n",
      "Predicted Sentiment: pos\n",
      "\n",
      "Review:   (0, 35280)\t0.07943747823109948\n",
      "  (0, 13695)\t0.08110495526221645\n",
      "  (0, 5224)\t0.09403063516207612\n",
      "  (0, 1810)\t0.15329543378335658\n",
      "  (0, 35714)\t0.054498828244042834\n",
      "  (0, 39013)\t0.07907617204054514\n",
      "  (0, 18583)\t0.057734666297733515\n",
      "  (0, 13176)\t0.08177072110906615\n",
      "  (0, 1760)\t0.0955328829571003\n",
      "  (0, 2954)\t0.13362853668093863\n",
      "  (0, 1564)\t0.1587481563677857\n",
      "  (0, 26455)\t0.1307019799556222\n",
      "  (0, 2006)\t0.13004386611244942\n",
      "  (0, 38711)\t0.11116979663600472\n",
      "  (0, 24150)\t0.1830427076885495\n",
      "  (0, 30852)\t0.17523827010923632\n",
      "  (0, 31925)\t0.16452985443692614\n",
      "  (0, 29594)\t0.19495874288353499\n",
      "  (0, 18996)\t0.17832992292776886\n",
      "  (0, 12268)\t0.21925151490330763\n",
      "  (0, 12671)\t0.19184569704258536\n",
      "  (0, 9659)\t0.1596930591898963\n",
      "  (0, 14567)\t0.2043548790446199\n",
      "  (0, 19866)\t0.20150094919389816\n",
      "  (0, 35196)\t0.19534942047885762\n",
      "  (0, 20027)\t0.2457616795374318\n",
      "  (0, 6781)\t0.2770775743858767\n",
      "  (0, 2847)\t0.19676249322401837\n",
      "  (0, 2544)\t0.2623376550969014\n",
      "  (0, 14519)\t0.2391666288307721\n",
      "  (0, 1398)\t0.27020488711614493\n",
      "  (0, 14976)\t0.2647171523149841\n",
      "Predicted Sentiment: neg\n",
      "\n",
      "Review:   (0, 35280)\t0.07070521325394588\n",
      "  (0, 18583)\t0.10277622058572618\n",
      "  (0, 7193)\t0.29198795007602796\n",
      "  (0, 26398)\t0.30183125045971976\n",
      "  (0, 18835)\t0.3604880889540525\n",
      "  (0, 38418)\t0.35531349133130585\n",
      "  (0, 1481)\t0.4037484968901653\n",
      "  (0, 31889)\t0.4397567042984968\n",
      "  (0, 2899)\t0.4421318891923753\n",
      "Predicted Sentiment: neg\n",
      "\n",
      "Review:   (0, 35280)\t0.06291424434587359\n",
      "  (0, 1810)\t0.0809396823171644\n",
      "  (0, 18583)\t0.09145136486120313\n",
      "  (0, 20921)\t0.22102403226753803\n",
      "  (0, 3767)\t0.2264511762109545\n",
      "  (0, 33714)\t0.19204350860988234\n",
      "  (0, 19971)\t0.3328247954727697\n",
      "  (0, 35919)\t0.32826084861597554\n",
      "  (0, 13595)\t0.6770654041030926\n",
      "  (0, 1598)\t0.40886385956040605\n",
      "Predicted Sentiment: pos\n",
      "\n"
     ]
    }
   ],
   "source": [
    "## Getting the Top 5 Suggestions\n",
    "\n",
    "# For Multinomial Naive Bayes\n",
    "nb_probabilities = nb_model.predict_proba(X_test)\n",
    "top_5_nb_indices = np.argsort(nb_probabilities.max(axis=1))[-5:]\n",
    "\n",
    "print(\"Top 5 suggestions (Multinomial Naive Bayes):\")\n",
    "for idx in top_5_nb_indices:\n",
    "    print(f\"Review: {X_test[idx]}\")\n",
    "    print(f\"Predicted Sentiment: {y_pred_nb[idx]}\")\n",
    "    print()\n",
    "\n",
    "\n"
   ]
  },
  {
   "cell_type": "markdown",
   "id": "c35cea99-be31-4a42-bc00-20f443a8fb8b",
   "metadata": {},
   "source": [
    "## Testing the model"
   ]
  },
  {
   "cell_type": "code",
   "execution_count": 38,
   "id": "64c3e356-8edc-4d71-8d64-ed1d454c5f74",
   "metadata": {},
   "outputs": [
    {
     "name": "stdout",
     "output_type": "stream",
     "text": [
      "Sentiment Prediction: pos\n"
     ]
    }
   ],
   "source": [
    "# Example of testing the models on a new sample\n",
    "sample_review = [\"The movie was fantastic with great acting!\"]\n",
    "\n",
    "# Preprocess the sample\n",
    "sample_vector = vectorizer.transform(sample_review)\n",
    "\n",
    "# Predict with Naive Bayes\n",
    "sample_prediction_nb = nb_model.predict(sample_vector)\n",
    "print(f\"Sentiment Prediction: {sample_prediction_nb[0]}\")\n",
    "\n"
   ]
  },
  {
   "cell_type": "code",
   "execution_count": 39,
   "id": "f0bfa1d0-99e8-4d5e-9e1e-d95ab101dff8",
   "metadata": {},
   "outputs": [
    {
     "name": "stdout",
     "output_type": "stream",
     "text": [
      "Sentiment Prediction: neg\n"
     ]
    }
   ],
   "source": [
    "input_text = ['''A disjointed mess with flashes of potential. \"Suicide Squad\" suffers from an uneven plot, \n",
    "                underdeveloped characters, and tonal inconsistencies that undermine its promising premise.''']\n",
    "\n",
    "# Preprocess the sample\n",
    "sample_vector = vectorizer.transform(input_text)\n",
    "\n",
    "# Predict with Naive Bayes\n",
    "sample_prediction_nb = nb_model.predict(sample_vector)\n",
    "print(f\"Sentiment Prediction: {sample_prediction_nb[0]}\")"
   ]
  },
  {
   "cell_type": "code",
   "execution_count": 40,
   "id": "c6a866d0-2447-4891-9392-a2f88c9c0dd6",
   "metadata": {},
   "outputs": [
    {
     "name": "stdout",
     "output_type": "stream",
     "text": [
      "Sentiment Prediction: pos\n"
     ]
    }
   ],
   "source": [
    "input_text = ['''\"Whiplash\" is a tour de force that resonates deeply. Its intense narrative, fueled by stellar performances and\n",
    "                an electrifying soundtrack, makes it an unforgettable cinematic experience.''']\n",
    "\n",
    "# Preprocess the sample\n",
    "sample_vector = vectorizer.transform(input_text)\n",
    "\n",
    "# Predict with Naive Bayes\n",
    "sample_prediction_nb = nb_model.predict(sample_vector)\n",
    "print(f\"Sentiment Prediction: {sample_prediction_nb[0]}\")"
   ]
  },
  {
   "cell_type": "code",
   "execution_count": 41,
   "id": "2306b556-2e38-4e16-8918-1386fdbdcdb4",
   "metadata": {},
   "outputs": [
    {
     "name": "stdout",
     "output_type": "stream",
     "text": [
      "Sentiment Prediction: neg\n"
     ]
    }
   ],
   "source": [
    "input_text = ['''\"M. Night Shyamalan's \"The Happening\" is a misfire, featuring a disjointed plot \n",
    "                and cringe-inducing dialogue. Despite a promising premise, it falls flat, lacking both suspense and coherence.''']\n",
    "\n",
    "# Preprocess the sample\n",
    "sample_vector = vectorizer.transform(input_text)\n",
    "\n",
    "# Predict with Naive Bayes\n",
    "sample_prediction_nb = nb_model.predict(sample_vector)\n",
    "print(f\"Sentiment Prediction: {sample_prediction_nb[0]}\")"
   ]
  },
  {
   "cell_type": "code",
   "execution_count": null,
   "id": "940a6b14-2ea1-4acd-992b-34ac796fdf11",
   "metadata": {},
   "outputs": [],
   "source": []
  }
 ],
 "metadata": {
  "kernelspec": {
   "display_name": "Python 3 (ipykernel)",
   "language": "python",
   "name": "python3"
  },
  "language_info": {
   "codemirror_mode": {
    "name": "ipython",
    "version": 3
   },
   "file_extension": ".py",
   "mimetype": "text/x-python",
   "name": "python",
   "nbconvert_exporter": "python",
   "pygments_lexer": "ipython3",
   "version": "3.12.4"
  }
 },
 "nbformat": 4,
 "nbformat_minor": 5
}
